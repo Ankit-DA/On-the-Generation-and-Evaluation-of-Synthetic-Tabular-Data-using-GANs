{
 "cells": [
  {
   "cell_type": "code",
   "execution_count": 20,
   "metadata": {},
   "outputs": [],
   "source": [
    "import pandas as pd\n",
    "import numpy as np\n",
    "from pathlib import Path\n",
    "from sklearn.metrics import accuracy_score"
   ]
  },
  {
   "cell_type": "code",
   "execution_count": 11,
   "metadata": {},
   "outputs": [],
   "source": [
    "gt = Path('../final_data/dia_samples/')\n",
    "results = Path('../final_data/dia_samples/result files/')"
   ]
  },
  {
   "cell_type": "code",
   "execution_count": 44,
   "metadata": {},
   "outputs": [],
   "source": [
    "hakan = pd.read_csv(files/'sample_v1_hakan.csv', sep=';')\n",
    "siamak = pd.read_csv(files/'sample_v2_siamak.csv', sep=';')\n",
    "rolf = pd.read_csv(files/'sample_v3_rolf.csv', sep=';')"
   ]
  },
  {
   "cell_type": "code",
   "execution_count": 15,
   "metadata": {},
   "outputs": [],
   "source": [
    "v1 = pd.read_csv(gt/'sample_v1_ground_truth.csv', sep=';')\n",
    "v2 = pd.read_csv(gt/'sample_v2_ground_truth.csv', sep=';')\n",
    "v3 = pd.read_csv(gt/'sample_v3_ground_truth.csv', sep=';')"
   ]
  },
  {
   "cell_type": "code",
   "execution_count": 50,
   "metadata": {},
   "outputs": [],
   "source": [
    "hakan['model'] = v1['model']\n",
    "siamak['model'] = v2['model']\n",
    "rolf['model'] = v3['model']"
   ]
  },
  {
   "cell_type": "code",
   "execution_count": 40,
   "metadata": {},
   "outputs": [
    {
     "data": {
      "text/plain": [
       "model\n",
       "medgan      0.353333\n",
       "skip        0.533333\n",
       "tablegan    0.454545\n",
       "tgan        0.433333\n",
       "wgan        0.500000\n",
       "Name: real, dtype: float64"
      ]
     },
     "execution_count": 40,
     "metadata": {},
     "output_type": "execute_result"
    }
   ],
   "source": [
    "rolf.groupby('model').mean()['real']"
   ]
  },
  {
   "cell_type": "code",
   "execution_count": 51,
   "metadata": {},
   "outputs": [
    {
     "data": {
      "text/plain": [
       "model\n",
       "medgan      0.209043\n",
       "skip        0.593729\n",
       "tablegan    0.218771\n",
       "tgan        0.428000\n",
       "wgan        0.458600\n",
       "Name: real_scorers, dtype: float64"
      ]
     },
     "execution_count": 51,
     "metadata": {},
     "output_type": "execute_result"
    }
   ],
   "source": [
    "siamak.groupby('model').mean()['real_scorers']"
   ]
  },
  {
   "cell_type": "code",
   "execution_count": 52,
   "metadata": {},
   "outputs": [
    {
     "data": {
      "text/plain": [
       "model\n",
       "medgan      0.353333\n",
       "skip        0.533333\n",
       "tablegan    0.454545\n",
       "tgan        0.433333\n",
       "wgan        0.500000\n",
       "Name: real, dtype: float64"
      ]
     },
     "execution_count": 52,
     "metadata": {},
     "output_type": "execute_result"
    }
   ],
   "source": [
    "rolf.groupby('model').mean()['real']"
   ]
  },
  {
   "cell_type": "code",
   "execution_count": null,
   "metadata": {},
   "outputs": [],
   "source": []
  }
 ],
 "metadata": {
  "kernelspec": {
   "display_name": "fastai (3.6.7)",
   "language": "python",
   "name": "fastai"
  },
  "language_info": {
   "codemirror_mode": {
    "name": "ipython",
    "version": 3
   },
   "file_extension": ".py",
   "mimetype": "text/x-python",
   "name": "python",
   "nbconvert_exporter": "python",
   "pygments_lexer": "ipython3",
   "version": "3.7.2"
  }
 },
 "nbformat": 4,
 "nbformat_minor": 4
}
